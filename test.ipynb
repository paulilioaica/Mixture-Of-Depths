{
 "cells": [
  {
   "cell_type": "code",
   "execution_count": 1,
   "metadata": {},
   "outputs": [],
   "source": [
    "import torch"
   ]
  },
  {
   "cell_type": "code",
   "execution_count": 2,
   "metadata": {},
   "outputs": [],
   "source": [
    "from src.mod_transformer import MixtureOfDepthsTransformer"
   ]
  },
  {
   "cell_type": "code",
   "execution_count": 3,
   "metadata": {},
   "outputs": [],
   "source": [
    "decoder_layer_nums = 4\n",
    "num_hidden = 128\n",
    "num_heads = 4\n",
    "seq_len = 128\n",
    "vocab_size = 100\n",
    "embedding_dim = 128\n",
    "\n",
    "mod_transformer = MixtureOfDepthsTransformer(decoder_layer_nums, num_hidden, num_heads, seq_len, vocab_size, embedding_dim)"
   ]
  },
  {
   "cell_type": "code",
   "execution_count": 4,
   "metadata": {},
   "outputs": [],
   "source": [
    "batch_size = 1\n",
    "\n",
    "input_data = torch.randint(0, 100, (batch_size, seq_len))"
   ]
  },
  {
   "cell_type": "code",
   "execution_count": 5,
   "metadata": {},
   "outputs": [
    {
     "data": {
      "text/plain": [
       "tensor([[[ 0.5094, -0.1114,  0.6810,  ..., -0.3144, -0.1853,  0.2982],\n",
       "         [ 0.2325,  0.0199, -0.0733,  ..., -1.1345, -0.0161,  0.4733],\n",
       "         [ 1.2110,  1.4795,  0.7764,  ..., -0.4011,  0.0016,  0.2281],\n",
       "         ...,\n",
       "         [-1.0425, -0.5590,  0.5186,  ..., -0.4408, -0.4595, -0.7386],\n",
       "         [-0.7438, -0.1782,  0.7091,  ...,  0.5630, -0.8663, -0.2941],\n",
       "         [ 1.2797,  0.8946, -0.1530,  ...,  0.0446, -0.2045,  0.2181]]],\n",
       "       grad_fn=<ViewBackward0>)"
      ]
     },
     "execution_count": 5,
     "metadata": {},
     "output_type": "execute_result"
    }
   ],
   "source": [
    "mod_transformer(input_data)"
   ]
  },
  {
   "cell_type": "code",
   "execution_count": 6,
   "metadata": {},
   "outputs": [
    {
     "name": "stdout",
     "output_type": "stream",
     "text": [
      "4.691597938537598\n",
      "0.877494215965271\n",
      "0.8433961868286133\n",
      "0.4703512191772461\n",
      "0.2849687337875366\n",
      "0.1648520529270172\n",
      "0.07272448390722275\n",
      "0.0240885429084301\n",
      "0.008880739100277424\n",
      "0.002893393859267235\n",
      "0.001568627543747425\n",
      "0.0007812911062501371\n",
      "0.0005004014237783849\n",
      "0.00018588892999105155\n",
      "5.103410148876719e-05\n",
      "4.808683297596872e-05\n",
      "2.0222843886585906e-05\n",
      "1.4180535799823701e-05\n",
      "1.0945476788037922e-05\n",
      "4.461776825337438e-06\n"
     ]
    }
   ],
   "source": [
    "#quick train loop\n",
    "optimizer = torch.optim.Adam(mod_transformer.parameters(), lr=0.01)\n",
    "criterion = torch.nn.CrossEntropyLoss()\n",
    "for i in range(20):\n",
    "    optimizer.zero_grad()\n",
    "\n",
    "    y_pred = mod_transformer(input_data)\n",
    "    y_target = torch.ones_like(y_pred).argmax(-1)\n",
    "\n",
    "    loss = criterion(y_pred.view(-1, 100), y_target.view(-1))\n",
    "    loss.backward()\n",
    "    optimizer.step()\n",
    "    print(loss.item())"
   ]
  }
 ],
 "metadata": {
  "kernelspec": {
   "display_name": "Python 3",
   "language": "python",
   "name": "python3"
  },
  "language_info": {
   "codemirror_mode": {
    "name": "ipython",
    "version": 3
   },
   "file_extension": ".py",
   "mimetype": "text/x-python",
   "name": "python",
   "nbconvert_exporter": "python",
   "pygments_lexer": "ipython3",
   "version": "3.12.2"
  }
 },
 "nbformat": 4,
 "nbformat_minor": 2
}
