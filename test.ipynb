{
 "cells": [
  {
   "cell_type": "code",
   "execution_count": 6,
   "metadata": {},
   "outputs": [],
   "source": [
    "from src.mod_transformer import Router\n",
    "import torch"
   ]
  },
  {
   "cell_type": "code",
   "execution_count": 13,
   "metadata": {},
   "outputs": [],
   "source": []
  },
  {
   "cell_type": "code",
   "execution_count": 14,
   "metadata": {},
   "outputs": [],
   "source": [
    "batch_size = 1\n",
    "seq_len = 16\n",
    "num_features = 128\n",
    "\n",
    "input_data = torch.randn(batch_size, seq_len, num_features)"
   ]
  },
  {
   "cell_type": "code",
   "execution_count": 71,
   "metadata": {},
   "outputs": [],
   "source": [
    "import torch.nn as nn\n",
    "class Router(nn.Module):\n",
    "    def __init__(self, top_k, num_hidden):\n",
    "        super().__init__()\n",
    "        self.linear = nn.Linear(num_hidden, 1)\n",
    "        self.top_k = top_k\n",
    "\n",
    "    def forward(self, x):\n",
    "        #get scores for each token\n",
    "        scores = self.linear(x)\n",
    "        #get top k tokens \n",
    "        top_k_scores, top_k_indices = torch.topk(scores, self.top_k, dim=1)\n",
    "        #get topk from x\n",
    "        x_top_k = x.gather(1, top_k_indices.expand(-1, -1, x.size(-1)))\n",
    "\n",
    "        return x_top_k, top_k_indices"
   ]
  },
  {
   "cell_type": "code",
   "execution_count": 72,
   "metadata": {},
   "outputs": [
    {
     "data": {
      "text/plain": [
       "torch.Size([1, 8, 128])"
      ]
     },
     "execution_count": 72,
     "metadata": {},
     "output_type": "execute_result"
    }
   ],
   "source": [
    "router = Router(top_k=8, num_hidden=128)\n",
    "router(input_data).shape"
   ]
  }
 ],
 "metadata": {
  "kernelspec": {
   "display_name": "Python 3",
   "language": "python",
   "name": "python3"
  },
  "language_info": {
   "codemirror_mode": {
    "name": "ipython",
    "version": 3
   },
   "file_extension": ".py",
   "mimetype": "text/x-python",
   "name": "python",
   "nbconvert_exporter": "python",
   "pygments_lexer": "ipython3",
   "version": "3.10.11"
  }
 },
 "nbformat": 4,
 "nbformat_minor": 2
}
